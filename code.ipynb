{
 "cells": [
  {
   "cell_type": "code",
   "execution_count": 3,
   "metadata": {},
   "outputs": [],
   "source": [
    "import sqlite3\n",
    "import pandas as pd\n",
    "\n",
    "def load_data():\n",
    "    conn = sqlite3.connect(\":memory:\")\n",
    "    cur = conn.cursor()\n",
    "\n",
    "    with open(\"create_tables.sql\", encoding=\"utf-8\") as file:\n",
    "        cur.executescript(file.read())\n",
    "\n",
    "    return conn, cur\n",
    "\n",
    "conn,_ = load_data()"
   ]
  },
  {
   "cell_type": "code",
   "execution_count": 25,
   "metadata": {},
   "outputs": [
    {
     "data": {
      "text/plain": [
       "{'K0': {0: 'A', 1: 'B', 2: 'C', 3: 'D', 4: 'E'},\n",
       " 'avg(tbl2.c21)': {0: 593.495,\n",
       "  1: 575.47,\n",
       "  2: 530.7529999999999,\n",
       "  3: 655.6125,\n",
       "  4: 555.323076923077}}"
      ]
     },
     "execution_count": 25,
     "metadata": {},
     "output_type": "execute_result"
    }
   ],
   "source": [
    "pd.read_sql_query(\"SELECT tbl1.K0, avg(tbl2.c21) FROM tbl1, tbl2 WHERE tbl1.K1 = tbl2.K1 AND tbl1.c13 > 400 GROUP BY tbl1.K0\", conn).to_dict()"
   ]
  }
 ],
 "metadata": {
  "kernelspec": {
   "display_name": "Python 3",
   "language": "python",
   "name": "python3"
  },
  "language_info": {
   "codemirror_mode": {
    "name": "ipython",
    "version": 3
   },
   "file_extension": ".py",
   "mimetype": "text/x-python",
   "name": "python",
   "nbconvert_exporter": "python",
   "pygments_lexer": "ipython3",
   "version": "3.11.5"
  }
 },
 "nbformat": 4,
 "nbformat_minor": 2
}
